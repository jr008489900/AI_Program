{
 "cells": [
  {
   "cell_type": "code",
   "execution_count": 3,
   "metadata": {},
   "outputs": [],
   "source": [
    "import numpy as np  \n",
    "from keras.models import Sequential\n",
    "from keras.datasets import mnist\n",
    "from keras.layers import Dense, Dropout, Activation, Flatten\n",
    "from keras.utils import np_utils  # 用來後續將 label 標籤轉為 one-hot-encoding  \n",
    "from matplotlib import pyplot as plt\n",
    "\n",
    "# 載入 MNIST 資料庫的訓練資料，並自動分為『訓練組』及『測試組』\n",
    "(X_train, y_train), (X_test, y_test) = mnist.load_data()\n"
   ]
  },
  {
   "cell_type": "code",
   "execution_count": 5,
   "metadata": {},
   "outputs": [
    {
     "name": "stdout",
     "output_type": "stream",
     "text": [
      "Epoch 1/10\n"
     ]
    },
    {
     "name": "stderr",
     "output_type": "stream",
     "text": [
      "2022-07-02 22:10:11.541742: W tensorflow/core/framework/cpu_allocator_impl.cc:82] Allocation of 150528000 exceeds 10% of free system memory.\n",
      "2022-07-02 22:10:16.527717: W tensorflow/core/framework/cpu_allocator_impl.cc:82] Allocation of 37632000 exceeds 10% of free system memory.\n"
     ]
    },
    {
     "name": "stdout",
     "output_type": "stream",
     "text": [
      "60/60 - 6s - loss: 0.8391 - accuracy: 0.7351 - val_loss: 0.2630 - val_accuracy: 0.9222 - 6s/epoch - 94ms/step\n",
      "Epoch 2/10\n",
      "60/60 - 4s - loss: 0.3243 - accuracy: 0.9029 - val_loss: 0.1830 - val_accuracy: 0.9463 - 4s/epoch - 59ms/step\n",
      "Epoch 3/10\n",
      "60/60 - 4s - loss: 0.2425 - accuracy: 0.9271 - val_loss: 0.1520 - val_accuracy: 0.9543 - 4s/epoch - 59ms/step\n",
      "Epoch 4/10\n",
      "60/60 - 4s - loss: 0.2011 - accuracy: 0.9399 - val_loss: 0.1283 - val_accuracy: 0.9617 - 4s/epoch - 61ms/step\n",
      "Epoch 5/10\n",
      "60/60 - 4s - loss: 0.1744 - accuracy: 0.9479 - val_loss: 0.1146 - val_accuracy: 0.9655 - 4s/epoch - 61ms/step\n",
      "Epoch 6/10\n",
      "60/60 - 3s - loss: 0.1548 - accuracy: 0.9537 - val_loss: 0.1093 - val_accuracy: 0.9669 - 3s/epoch - 47ms/step\n",
      "Epoch 7/10\n",
      "60/60 - 3s - loss: 0.1416 - accuracy: 0.9573 - val_loss: 0.0994 - val_accuracy: 0.9702 - 3s/epoch - 57ms/step\n",
      "Epoch 8/10\n",
      "60/60 - 3s - loss: 0.1287 - accuracy: 0.9603 - val_loss: 0.0931 - val_accuracy: 0.9727 - 3s/epoch - 56ms/step\n",
      "Epoch 9/10\n",
      "60/60 - 3s - loss: 0.1187 - accuracy: 0.9640 - val_loss: 0.0923 - val_accuracy: 0.9730 - 3s/epoch - 51ms/step\n",
      "Epoch 10/10\n",
      "60/60 - 3s - loss: 0.1094 - accuracy: 0.9659 - val_loss: 0.0899 - val_accuracy: 0.9743 - 3s/epoch - 50ms/step\n",
      "313/313 [==============================] - 2s 6ms/step - loss: 0.0839 - accuracy: 0.9737\n",
      "\n",
      "\t[Info] Accuracy of testing data = 97.4%\n",
      "1/1 [==============================] - 0s 111ms/step\n",
      "[7 2 1 0 4 1 4 9 5 9]\n"
     ]
    }
   ],
   "source": [
    "# 建立簡單的線性執行的模型\n",
    "model = Sequential()\n",
    "# Add Input layer, 隱藏層(hidden layer) 有 256個輸出變數\n",
    "model.add(Dense(units=256, input_dim=784, kernel_initializer='normal', activation='relu'))\n",
    "model.add(Dropout(0.5))\n",
    "model.add(Dense(units=512,kernel_initializer='normal', activation='relu'))\n",
    "model.add(Dropout(0.5))\n",
    "# Add output layer\n",
    "model.add(Dense(units=10, kernel_initializer='normal', activation='softmax'))\n",
    "\n",
    "# 編譯: 選擇損失函數、優化方法及成效衡量方式\n",
    "model.compile(loss='categorical_crossentropy', optimizer='Adam', metrics=['accuracy']) \n",
    "\n",
    "# 將 training 的 label 進行 one-hot encoding，例如數字 7 經過 One-hot encoding 轉換後是 0000001000，即第7個值為 1\n",
    "y_TrainOneHot = np_utils.to_categorical(y_train) \n",
    "y_TestOneHot = np_utils.to_categorical(y_test) \n",
    "\n",
    "# 將 training 的 input 資料轉為2維\n",
    "X_train_2D = X_train.reshape(60000, 28*28).astype('float32')  \n",
    "X_test_2D = X_test.reshape(10000, 28*28).astype('float32')  \n",
    "\n",
    "x_Train_norm = X_train_2D/255\n",
    "x_Test_norm = X_test_2D/255\n",
    "\n",
    "# 進行訓練, 訓練過程會存在 train_history 變數中\n",
    "train_history = model.fit(x=x_Train_norm, y=y_TrainOneHot, validation_split=0.2, epochs=10, batch_size=800, verbose=2)  \n",
    "\n",
    "# 顯示訓練成果(分數)\n",
    "scores = model.evaluate(x_Test_norm, y_TestOneHot)  \n",
    "print()  \n",
    "print(\"\\t[Info] Accuracy of testing data = {:2.1f}%\".format(scores[1]*100.0))  \n",
    "\n",
    "# 預測(prediction)\n",
    "X = x_Test_norm[0:10,:]\n",
    "predictions = np.argmax(model.predict(X), axis=-1)\n",
    "# get prediction result\n",
    "print(predictions)\n"
   ]
  }
 ],
 "metadata": {
  "kernelspec": {
   "display_name": "Python 3.10.4 64-bit",
   "language": "python",
   "name": "python3"
  },
  "language_info": {
   "codemirror_mode": {
    "name": "ipython",
    "version": 3
   },
   "file_extension": ".py",
   "mimetype": "text/x-python",
   "name": "python",
   "nbconvert_exporter": "python",
   "pygments_lexer": "ipython3",
   "version": "3.10.4"
  },
  "orig_nbformat": 4,
  "vscode": {
   "interpreter": {
    "hash": "916dbcbb3f70747c44a77c7bcd40155683ae19c65e1c03b4aa3499c5328201f1"
   }
  }
 },
 "nbformat": 4,
 "nbformat_minor": 2
}
